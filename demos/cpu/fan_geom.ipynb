{
 "cells": [
  {
   "cell_type": "code",
   "execution_count": null,
   "id": "23e1afd4-942f-4f4f-90eb-43cea30b40b2",
   "metadata": {},
   "outputs": [],
   "source": [
    "from cpu.systems.fan_geometry import FanGeometry\n",
    "\n",
    "fan = FanGeometry('fan')\n",
    "rotor = fan.rotor\n",
    "blade = rotor.blade\n",
    "casing = fan.casing"
   ]
  },
  {
   "cell_type": "code",
   "execution_count": null,
   "id": "90d20baa-296f-4b6a-b5c8-c84cf7408124",
   "metadata": {},
   "outputs": [],
   "source": [
    "from pythonocc_helpers.render import JupyterThreeJSRenderer\n",
    "\n",
    "render = JupyterThreeJSRenderer(view_size=(1800, 800), camera_target=(1., 0., 0.), camera_position=(-2., 1., -1.))\n",
    "\n",
    "render_row = render.add_shape(fan.geometry.shape, uid=\"blade\", face_color=\"#156289\", opacity=1.)\n",
    "render_row.linear_deflection = 0.15\n",
    "render_row.angular_deflection = 0.15\n",
    "render.show()"
   ]
  },
  {
   "cell_type": "code",
   "execution_count": null,
   "id": "b61809f9-df8c-4d48-b3a3-25d984689abe",
   "metadata": {
    "tags": []
   },
   "outputs": [],
   "source": [
    "blade.height_over_chord = 1.5\n",
    "blade.q_factor = 1.\n",
    "blade.max_thickness_position = 0.3\n",
    "blade.max_thickness_ratio = 0.1\n",
    "blade.leading_tension = 1.\n",
    "blade.trailing_tension = 1.\n",
    "blade.inlet_angle = 70.\n",
    "blade.exit_angle = 40.\n",
    "blade.stacking_parameter = 0.\n",
    "blade.stacking_angle = 0.\n",
    "blade.swirl = 30.\n",
    "\n",
    "casing.thickness_ratio = 0.03\n",
    "casing.min_thickness = 0.002\n",
    "casing.clearance_ratio = 0.01\n",
    "casing.min_clearance = 0.002\n",
    "casing.struts_clearance_ratio = 0.05\n",
    "\n",
    "rotor.count = 7\n",
    "\n",
    "f = 1.\n",
    "fan.tip_radius = 0.1 / f\n",
    "fan.hub_to_tip_ratio = 0.35\n",
    "fan.factor = 10. * f\n",
    "\n",
    "fan.run_drivers()\n",
    "\n",
    "render.update_shape(fan.geometry.shape, uid=\"blade\");"
   ]
  },
  {
   "cell_type": "code",
   "execution_count": null,
   "id": "f5586a4b-49ca-4312-8e54-19725f149119",
   "metadata": {
    "tags": []
   },
   "outputs": [],
   "source": [
    "import ipywidgets as widgets\n",
    "\n",
    "slider = widgets.IntSlider(\n",
    "    value=7,\n",
    "    min=4,\n",
    "    max=13,\n",
    "    step=1,\n",
    "    description='Blade count:',\n",
    "    disabled=False,\n",
    "    continuous_update=False,\n",
    "    orientation='horizontal',\n",
    "    readout=True\n",
    ")\n",
    "\n",
    "def on_value_change(change):\n",
    "    rotor.count = change['new']\n",
    "    fan.run_drivers()\n",
    "    render.update_shape(fan.geometry.shape, uid=\"blade\");\n",
    "\n",
    "slider.observe(on_value_change, names='value')\n",
    "\n",
    "slider"
   ]
  }
 ],
 "metadata": {
  "kernelspec": {
   "display_name": "Python 3 (ipykernel)",
   "language": "python",
   "name": "python3"
  },
  "language_info": {
   "codemirror_mode": {
    "name": "ipython",
    "version": 3
   },
   "file_extension": ".py",
   "mimetype": "text/x-python",
   "name": "python",
   "nbconvert_exporter": "python",
   "pygments_lexer": "ipython3",
   "version": "3.9.10"
  }
 },
 "nbformat": 4,
 "nbformat_minor": 5
}
